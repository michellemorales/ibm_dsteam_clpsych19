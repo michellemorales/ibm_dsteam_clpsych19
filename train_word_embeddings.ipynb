{
 "cells": [
  {
   "cell_type": "markdown",
   "metadata": {},
   "source": [
    "#### CLPsych19 Shared Task\n",
    "For questions contact Michelle.Morales@ibm.com"
   ]
  },
  {
   "cell_type": "markdown",
   "metadata": {
    "heading_collapsed": true
   },
   "source": [
    "#### Load the data"
   ]
  },
  {
   "cell_type": "code",
   "execution_count": null,
   "metadata": {
    "ExecuteTime": {
     "end_time": "2019-03-15T10:26:20.379668Z",
     "start_time": "2019-03-15T10:26:20.344798Z"
    },
    "collapsed": true,
    "hidden": true
   },
   "outputs": [],
   "source": [
    "import os\n",
    "import gensim\n",
    "import pandas as pd\n",
    "from nltk.tokenize import sent_tokenize, word_tokenize\n",
    "from gensim.test.utils import get_tmpfile\n",
    "from gensim.models import Word2Vec, FastText"
   ]
  },
  {
   "cell_type": "code",
   "execution_count": null,
   "metadata": {
    "ExecuteTime": {
     "end_time": "2019-03-14T11:00:18.350706Z",
     "start_time": "2019-03-14T11:00:18.332756Z"
    },
    "hidden": true
   },
   "outputs": [],
   "source": [
    "# Optional steps depending on where your scripts and data are\n",
    "# os.getcwd()\n",
    "# os.chdir('clpsych19_training_data/') # point directory to training data folder"
   ]
  },
  {
   "cell_type": "code",
   "execution_count": null,
   "metadata": {
    "ExecuteTime": {
     "end_time": "2019-03-14T10:59:02.727290Z",
     "start_time": "2019-03-14T10:58:46.821609Z"
    },
    "hidden": true
   },
   "outputs": [],
   "source": [
    "text_data = pd.read_csv('shared_task_posts.csv')"
   ]
  },
  {
   "cell_type": "code",
   "execution_count": null,
   "metadata": {
    "ExecuteTime": {
     "end_time": "2019-03-14T11:00:20.225881Z",
     "start_time": "2019-03-14T11:00:20.102779Z"
    },
    "hidden": true
   },
   "outputs": [],
   "source": [
    "text_data.head()"
   ]
  },
  {
   "cell_type": "code",
   "execution_count": null,
   "metadata": {
    "ExecuteTime": {
     "end_time": "2019-03-14T11:00:44.807902Z",
     "start_time": "2019-03-14T11:00:43.243429Z"
    },
    "collapsed": true,
    "hidden": true
   },
   "outputs": [],
   "source": [
    "text_data = text_data.fillna('')\n",
    "# text_data['title_stokenize'] = text_data.apply(lambda row: sent_tokenize(row['post_title'].lower()), axis=1)"
   ]
  },
  {
   "cell_type": "code",
   "execution_count": null,
   "metadata": {
    "ExecuteTime": {
     "end_time": "2019-03-14T11:10:09.218236Z",
     "start_time": "2019-03-14T11:00:55.246550Z"
    },
    "collapsed": true,
    "hidden": true
   },
   "outputs": [],
   "source": [
    "text_data['title_tokens'] = text_data.apply(lambda row: [word_tokenize(s) for s in sent_tokenize(row['post_title'].lower())], axis=1)"
   ]
  },
  {
   "cell_type": "code",
   "execution_count": null,
   "metadata": {
    "ExecuteTime": {
     "end_time": "2019-03-14T12:32:02.686457Z",
     "start_time": "2019-03-14T11:10:09.225583Z"
    },
    "collapsed": true,
    "hidden": true
   },
   "outputs": [],
   "source": [
    "text_data['post_tokens'] = text_data.apply(lambda row: [word_tokenize(s) for s in sent_tokenize(row['post_body'].lower())], axis=1)"
   ]
  },
  {
   "cell_type": "code",
   "execution_count": null,
   "metadata": {
    "ExecuteTime": {
     "end_time": "2019-03-14T12:33:12.772045Z",
     "start_time": "2019-03-14T12:32:02.717226Z"
    },
    "collapsed": true,
    "hidden": true
   },
   "outputs": [],
   "source": [
    "all_tokens = text_data['title_tokens'].values + text_data['post_tokens'].values"
   ]
  },
  {
   "cell_type": "code",
   "execution_count": null,
   "metadata": {
    "ExecuteTime": {
     "end_time": "2019-03-14T12:42:07.678611Z",
     "start_time": "2019-03-14T12:41:55.442481Z"
    },
    "collapsed": true,
    "hidden": true
   },
   "outputs": [],
   "source": [
    "one_list = []\n",
    "for a in all_tokens:\n",
    "    sents = a\n",
    "    for s in sents:\n",
    "        one_list.append(s)"
   ]
  },
  {
   "cell_type": "code",
   "execution_count": null,
   "metadata": {
    "ExecuteTime": {
     "end_time": "2019-03-12T18:04:42.048092Z",
     "start_time": "2019-03-12T18:04:42.039564Z"
    },
    "collapsed": true,
    "hidden": true
   },
   "outputs": [],
   "source": [
    "# TODO: more preprocessing"
   ]
  },
  {
   "cell_type": "code",
   "execution_count": null,
   "metadata": {
    "ExecuteTime": {
     "end_time": "2019-03-12T18:04:29.200931Z",
     "start_time": "2019-03-12T18:04:29.182804Z"
    },
    "collapsed": true,
    "hidden": true
   },
   "outputs": [],
   "source": [
    "### TO SLOW\n",
    "# # Get tokenized sentences from titles\n",
    "# text_data = text_data.fillna('')\n",
    "# tokenized_sentences = []\n",
    "# for (i,row) in text_data.iterrows():\n",
    "#     title = row['post_title']\n",
    "#     post = row['post_body']\n",
    "#     for s in sent_tokenize(title.lower()):\n",
    "#         tokens = word_tokenize(s)\n",
    "#         tokenized_sentences.append(tokens)\n",
    "#     for s in sent_tokenize(post.lower()):\n",
    "#         tokens = word_tokenize(s)\n",
    "#         tokenized_sentences.append(tokens)"
   ]
  },
  {
   "cell_type": "code",
   "execution_count": null,
   "metadata": {
    "ExecuteTime": {
     "end_time": "2019-03-12T20:07:11.788556Z",
     "start_time": "2019-03-12T20:07:11.672867Z"
    },
    "hidden": true
   },
   "outputs": [],
   "source": [
    "one_list[0]"
   ]
  },
  {
   "cell_type": "markdown",
   "metadata": {},
   "source": [
    "#### Train word vectors"
   ]
  },
  {
   "cell_type": "markdown",
   "metadata": {},
   "source": [
    "##### Word2vec"
   ]
  },
  {
   "cell_type": "code",
   "execution_count": null,
   "metadata": {
    "ExecuteTime": {
     "end_time": "2019-03-12T18:30:51.782973Z",
     "start_time": "2019-03-12T18:05:43.778573Z"
    },
    "collapsed": true
   },
   "outputs": [],
   "source": [
    "# Train wordvecs using gensim\n",
    "model = gensim.models.Word2Vec(one_list, size=100, window=5, min_count=5, workers=4, sg=1)"
   ]
  },
  {
   "cell_type": "code",
   "execution_count": null,
   "metadata": {
    "collapsed": true
   },
   "outputs": [],
   "source": [
    "words = list(model.wv.vocab)\n",
    "print(len(words))\n",
    "path = get_tmpfile(\"word2vec_reddit.model\")\n",
    "model.save(\"word2vec_reddit.model\")\n",
    "model.wv.save_word2vec_format(\"word2vec_reddit.txt\", binary=False)"
   ]
  },
  {
   "cell_type": "markdown",
   "metadata": {
    "ExecuteTime": {
     "end_time": "2019-03-14T12:43:37.898321Z",
     "start_time": "2019-03-14T12:43:37.888971Z"
    }
   },
   "source": [
    "##### Fast text"
   ]
  },
  {
   "cell_type": "code",
   "execution_count": null,
   "metadata": {
    "ExecuteTime": {
     "end_time": "2019-03-15T11:11:12.635526Z",
     "start_time": "2019-03-15T10:30:23.350281Z"
    },
    "collapsed": true
   },
   "outputs": [],
   "source": [
    "fmodel = FastText(size=4, window=3, min_count=5, sentences=one_list, iter=10)"
   ]
  },
  {
   "cell_type": "code",
   "execution_count": null,
   "metadata": {
    "ExecuteTime": {
     "end_time": "2019-03-15T11:53:24.560277Z",
     "start_time": "2019-03-15T11:53:16.547221Z"
    },
    "collapsed": true
   },
   "outputs": [],
   "source": [
    "path = get_tmpfile(\"fasttext_reddit.model\")\n",
    "fmodel.save('fasttext_reddit.model')"
   ]
  },
  {
   "cell_type": "code",
   "execution_count": null,
   "metadata": {
    "ExecuteTime": {
     "end_time": "2019-03-15T11:46:39.329653Z",
     "start_time": "2019-03-15T11:46:39.307795Z"
    }
   },
   "outputs": [],
   "source": [
    "fmodel['suici']"
   ]
  },
  {
   "cell_type": "markdown",
   "metadata": {},
   "source": [
    "#### Load and visualize trained model"
   ]
  },
  {
   "cell_type": "code",
   "execution_count": null,
   "metadata": {
    "ExecuteTime": {
     "end_time": "2019-03-13T21:45:54.361172Z",
     "start_time": "2019-03-13T21:45:52.230782Z"
    },
    "collapsed": true
   },
   "outputs": [],
   "source": [
    "model = Word2Vec.load(\"word2vec_reddit.model\")"
   ]
  },
  {
   "cell_type": "code",
   "execution_count": null,
   "metadata": {
    "ExecuteTime": {
     "end_time": "2019-03-13T22:38:58.393894Z",
     "start_time": "2019-03-13T22:38:58.105779Z"
    }
   },
   "outputs": [],
   "source": [
    "model.most_similar('depression')"
   ]
  },
  {
   "cell_type": "code",
   "execution_count": null,
   "metadata": {
    "ExecuteTime": {
     "end_time": "2019-03-13T13:18:22.341324Z",
     "start_time": "2019-03-13T13:18:22.154996Z"
    },
    "collapsed": true
   },
   "outputs": [],
   "source": [
    "# Transform data output to make it work with the tensorflow embedding projector: https://projector.tensorflow.org/\n",
    "words = list(model.wv.vocab)\n",
    "outF = open(\"words.tsv\", \"w\")\n",
    "for w in words:\n",
    "  # write line to output file\n",
    "    outF.write(w)\n",
    "    outF.write(\"\\n\")\n",
    "outF.close()\n",
    "\n",
    "X = reddit_model[reddit_model.wv.vocab]\n",
    "outF = open(\"vectors.tsv\", \"w\")\n",
    "for vector in X:\n",
    "  # write line to output file\n",
    "    outF.write('\\t'.join([str(x) for x in vector.tolist()]))\n",
    "    outF.write(\"\\n\")\n",
    "outF.close()"
   ]
  },
  {
   "cell_type": "markdown",
   "metadata": {},
   "source": [
    "#### Load retrofitted vectors"
   ]
  },
  {
   "cell_type": "code",
   "execution_count": null,
   "metadata": {
    "ExecuteTime": {
     "end_time": "2019-03-13T22:38:22.068466Z",
     "start_time": "2019-03-13T22:38:02.036511Z"
    }
   },
   "outputs": [],
   "source": [
    "from gensim.models import KeyedVectors\n",
    "# Retrofit them using code from: https://github.com/mfaruqui/retrofitting\n",
    "retro_model = KeyedVectors.load_word2vec_format('retro_word2vec_reddit.txt')"
   ]
  },
  {
   "cell_type": "code",
   "execution_count": null,
   "metadata": {
    "ExecuteTime": {
     "end_time": "2019-03-13T22:38:50.345620Z",
     "start_time": "2019-03-13T22:38:50.300099Z"
    }
   },
   "outputs": [],
   "source": [
    "retro_model.most_similar('depression')"
   ]
  },
  {
   "cell_type": "code",
   "execution_count": null,
   "metadata": {
    "collapsed": true
   },
   "outputs": [],
   "source": []
  }
 ],
 "metadata": {
  "kernelspec": {
   "display_name": "Python [conda env:clpsych19]",
   "language": "python",
   "name": "conda-env-clpsych19-py"
  },
  "language_info": {
   "codemirror_mode": {
    "name": "ipython",
    "version": 3
   },
   "file_extension": ".py",
   "mimetype": "text/x-python",
   "name": "python",
   "nbconvert_exporter": "python",
   "pygments_lexer": "ipython3",
   "version": "3.7.2"
  }
 },
 "nbformat": 4,
 "nbformat_minor": 2
}