{
 "cells": [
  {
   "cell_type": "code",
   "execution_count": 2,
   "metadata": {},
   "outputs": [],
   "source": [
    "tone_analyzer_api_key = ''\n",
    "tone_analyzer_api_url = 'https://gateway.watsonplatform.net/tone-analyzer/api'"
   ]
  },
  {
   "cell_type": "code",
   "execution_count": 3,
   "metadata": {},
   "outputs": [],
   "source": [
    "from watson_developer_cloud import ToneAnalyzerV3"
   ]
  },
  {
   "cell_type": "code",
   "execution_count": 4,
   "metadata": {},
   "outputs": [],
   "source": [
    "tone_analyzer = ToneAnalyzerV3(iam_apikey = tone_analyzer_api_key, url = tone_analyzer_api_url, version = '2016-05-19')"
   ]
  },
  {
   "cell_type": "code",
   "execution_count": 27,
   "metadata": {},
   "outputs": [],
   "source": [
    "class user():\n",
    "    \n",
    "    def __init__(self, userid, whole_data):\n",
    "        self.user = userid\n",
    "        self.user_data = self.retrieve_data(whole_data)\n",
    "        self.tone_dictionary = self.analyze_tone(self.user_data)\n",
    "        self.parsed_data = self.parser(self.tone_dictionary)\n",
    "        \n",
    "    def retrieve_data(self, df):\n",
    "        return pd.DataFrame(df[df['user_id'] == self.user])\n",
    "           \n",
    "    def analyze_tone(self, text):\n",
    "        return tone_analyzer.tone(text, content_type = 'text/plain')\n",
    "        \n",
    "    def dict_values_to_list(d, topic, i):\n",
    "        return list([topic].extend(d[i].values()))\n",
    "\n",
    "    def parser(self, d):\n",
    "        c = ['topic', 'score', 'tone_id', 'tone_name']\n",
    "        if bool(d):\n",
    "            try:\n",
    "                for topic in range(3): \n",
    "                    l = []\n",
    "                    tone_topic = d['document_tone']['tone_categories'][topic]['tones']\n",
    "                    for index in range(len(tone_topic)):\n",
    "                        l.append(dict_values_to_list(tone_topic, index))\n",
    "            except ValueError:  \n",
    "                print('Parsing JSON failed')\n",
    "            else:\n",
    "                df = pd.DataFrame(l, columns = c)      \n",
    "        else:\n",
    "            print('No tone data exists for user: {}'.format(self.user))\n",
    "            pass        \n",
    "        return df"
   ]
  }
 ],
 "metadata": {
  "kernelspec": {
   "display_name": "Python 3",
   "language": "python",
   "name": "python3"
  },
  "language_info": {
   "codemirror_mode": {
    "name": "ipython",
    "version": 3
   },
   "file_extension": ".py",
   "mimetype": "text/x-python",
   "name": "python",
   "nbconvert_exporter": "python",
   "pygments_lexer": "ipython3",
   "version": "3.7.1"
  }
 },
 "nbformat": 4,
 "nbformat_minor": 2
}